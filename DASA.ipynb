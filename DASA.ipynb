{
 "cells": [
  {
   "cell_type": "markdown",
   "metadata": {},
   "source": [
    "## Retriever as a tool\n",
    "A retriever tool is used to retrieve relevant data from a vector database based on the user input and sent to an LLM as context for the user input. This is done when the source data is large and cannot be send as part of the user input in the prompt. In the below example of retriever tool, data from a website https://www.dasa.org is stored in a vector database, and the retriever tool is used to retrieve relevant information from the vector database to be passed to the LLM as context.\n",
    "\n",
    "In order to provide the tools to the AI Agent, we first need to create the retriever and then import the tool."
   ]
  },
  {
   "cell_type": "code",
   "execution_count": 2,
   "metadata": {},
   "outputs": [
    {
     "name": "stderr",
     "output_type": "stream",
     "text": [
      "USER_AGENT environment variable not set, consider setting it to identify your requests.\n"
     ]
    }
   ],
   "source": [
    "from langchain_community.document_loaders import WebBaseLoader\n",
    "loader = WebBaseLoader(\"https://www.dasa.org\")"
   ]
  },
  {
   "cell_type": "code",
   "execution_count": 3,
   "metadata": {},
   "outputs": [],
   "source": [
    "docs = loader.load()\n",
    "from langchain_text_splitters import RecursiveCharacterTextSplitter\n",
    "text_splitter = RecursiveCharacterTextSplitter()\n",
    "documents = text_splitter.split_documents(docs)\n",
    "from langchain_openai import OpenAIEmbeddings\n",
    "embeddings = OpenAIEmbeddings()\n",
    "from langchain_community.vectorstores import FAISS\n",
    "vector = FAISS.from_documents(documents, embeddings)\n",
    "retriever = vector.as_retriever()"
   ]
  },
  {
   "cell_type": "markdown",
   "metadata": {},
   "source": [
    "Let’s now import the create_retriever_tool package. We import it as below:"
   ]
  },
  {
   "cell_type": "code",
   "execution_count": 4,
   "metadata": {},
   "outputs": [],
   "source": [
    "from langchain.tools.retriever import create_retriever_tool"
   ]
  },
  {
   "cell_type": "markdown",
   "metadata": {},
   "source": [
    "Next, we create the tool by giving it a name and description."
   ]
  },
  {
   "cell_type": "code",
   "execution_count": 5,
   "metadata": {},
   "outputs": [],
   "source": [
    "retriever_tool = create_retriever_tool (retriever, \"DASA_search\", \"Search for information about DASA. For any questions about DASA, you must use this tool\")"
   ]
  },
  {
   "cell_type": "code",
   "execution_count": 6,
   "metadata": {},
   "outputs": [
    {
     "name": "stdout",
     "output_type": "stream",
     "text": [
      "Tavily API Key found: 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\n"
     ]
    }
   ],
   "source": [
    "import os \n",
    "\n",
    "# Retrieve the Tavily API key from the environment\n",
    "tavily_api_key = os.getenv(\"TAVILY_API_KEY\")\n",
    "\n",
    "# Print the value to verify\n",
    "if tavily_api_key:\n",
    "    print(f\"Tavily API Key found: {tavily_api_key}\")\n",
    "else:\n",
    "    print(\"Tavily API Key not found. Please ensure it is set correctly.\")\n"
   ]
  },
  {
   "cell_type": "code",
   "execution_count": 7,
   "metadata": {},
   "outputs": [],
   "source": [
    "from langchain_community.tools.tavily_search import TavilySearchResults\n",
    "import os \n",
    "search = TavilySearchResults()"
   ]
  },
  {
   "cell_type": "code",
   "execution_count": 8,
   "metadata": {},
   "outputs": [],
   "source": [
    "tools = [retriever_tool, search]"
   ]
  },
  {
   "cell_type": "markdown",
   "metadata": {},
   "source": [
    "Next, we will get a predefined prompt from a prompt hub that will be useful to get the llm to act as an AI Agent."
   ]
  },
  {
   "cell_type": "code",
   "execution_count": 9,
   "metadata": {},
   "outputs": [
    {
     "name": "stderr",
     "output_type": "stream",
     "text": [
      "/Users/aymentiouiri/opt/anaconda3/envs/agents/lib/python3.9/site-packages/langsmith/client.py:354: LangSmithMissingAPIKeyWarning: API key must be provided when using hosted LangSmith API\n",
      "  warnings.warn(\n"
     ]
    },
    {
     "data": {
      "text/plain": [
       "ChatPromptTemplate(input_variables=['agent_scratchpad', 'input'], optional_variables=['chat_history'], input_types={'chat_history': list[typing.Annotated[typing.Union[typing.Annotated[langchain_core.messages.ai.AIMessage, Tag(tag='ai')], typing.Annotated[langchain_core.messages.human.HumanMessage, Tag(tag='human')], typing.Annotated[langchain_core.messages.chat.ChatMessage, Tag(tag='chat')], typing.Annotated[langchain_core.messages.system.SystemMessage, Tag(tag='system')], typing.Annotated[langchain_core.messages.function.FunctionMessage, Tag(tag='function')], typing.Annotated[langchain_core.messages.tool.ToolMessage, Tag(tag='tool')], typing.Annotated[langchain_core.messages.ai.AIMessageChunk, Tag(tag='AIMessageChunk')], typing.Annotated[langchain_core.messages.human.HumanMessageChunk, Tag(tag='HumanMessageChunk')], typing.Annotated[langchain_core.messages.chat.ChatMessageChunk, Tag(tag='ChatMessageChunk')], typing.Annotated[langchain_core.messages.system.SystemMessageChunk, Tag(tag='SystemMessageChunk')], typing.Annotated[langchain_core.messages.function.FunctionMessageChunk, Tag(tag='FunctionMessageChunk')], typing.Annotated[langchain_core.messages.tool.ToolMessageChunk, Tag(tag='ToolMessageChunk')]], FieldInfo(annotation=NoneType, required=True, discriminator=Discriminator(discriminator=<function _get_type at 0x7f99e822b160>, custom_error_type=None, custom_error_message=None, custom_error_context=None))]], 'agent_scratchpad': list[typing.Annotated[typing.Union[typing.Annotated[langchain_core.messages.ai.AIMessage, Tag(tag='ai')], typing.Annotated[langchain_core.messages.human.HumanMessage, Tag(tag='human')], typing.Annotated[langchain_core.messages.chat.ChatMessage, Tag(tag='chat')], typing.Annotated[langchain_core.messages.system.SystemMessage, Tag(tag='system')], typing.Annotated[langchain_core.messages.function.FunctionMessage, Tag(tag='function')], typing.Annotated[langchain_core.messages.tool.ToolMessage, Tag(tag='tool')], typing.Annotated[langchain_core.messages.ai.AIMessageChunk, Tag(tag='AIMessageChunk')], typing.Annotated[langchain_core.messages.human.HumanMessageChunk, Tag(tag='HumanMessageChunk')], typing.Annotated[langchain_core.messages.chat.ChatMessageChunk, Tag(tag='ChatMessageChunk')], typing.Annotated[langchain_core.messages.system.SystemMessageChunk, Tag(tag='SystemMessageChunk')], typing.Annotated[langchain_core.messages.function.FunctionMessageChunk, Tag(tag='FunctionMessageChunk')], typing.Annotated[langchain_core.messages.tool.ToolMessageChunk, Tag(tag='ToolMessageChunk')]], FieldInfo(annotation=NoneType, required=True, discriminator=Discriminator(discriminator=<function _get_type at 0x7f99e822b160>, custom_error_type=None, custom_error_message=None, custom_error_context=None))]]}, partial_variables={'chat_history': []}, metadata={'lc_hub_owner': 'hwchase17', 'lc_hub_repo': 'openai-functions-agent', 'lc_hub_commit_hash': 'a1655024b06afbd95d17449f21316291e0726f13dcfaf990cc0d18087ad689a5'}, messages=[SystemMessagePromptTemplate(prompt=PromptTemplate(input_variables=[], input_types={}, partial_variables={}, template='You are a helpful assistant'), additional_kwargs={}), MessagesPlaceholder(variable_name='chat_history', optional=True), HumanMessagePromptTemplate(prompt=PromptTemplate(input_variables=['input'], input_types={}, partial_variables={}, template='{input}'), additional_kwargs={}), MessagesPlaceholder(variable_name='agent_scratchpad')])"
      ]
     },
     "execution_count": 9,
     "metadata": {},
     "output_type": "execute_result"
    }
   ],
   "source": [
    "from langchain import hub\n",
    "prompt = hub.pull(\"hwchase17/openai-functions-agent\")\n",
    "prompt"
   ]
  },
  {
   "cell_type": "code",
   "execution_count": 10,
   "metadata": {},
   "outputs": [],
   "source": [
    "from langchain_openai import ChatOpenAI\n",
    "llm = ChatOpenAI()"
   ]
  },
  {
   "cell_type": "code",
   "execution_count": 11,
   "metadata": {},
   "outputs": [],
   "source": [
    "from langchain.agents import create_openai_functions_agent\n",
    "from langchain.agents import AgentExecutor"
   ]
  },
  {
   "cell_type": "code",
   "execution_count": 19,
   "metadata": {},
   "outputs": [],
   "source": [
    "agent = create_openai_functions_agent(llm,tools,prompt)\n",
    "agent_executor=AgentExecutor(agent=agent,tools=tools,verbose=True)"
   ]
  },
  {
   "cell_type": "code",
   "execution_count": 20,
   "metadata": {},
   "outputs": [
    {
     "name": "stdout",
     "output_type": "stream",
     "text": [
      "\n",
      "\n",
      "\u001b[1m> Entering new AgentExecutor chain...\u001b[0m\n",
      "\u001b[32;1m\u001b[1;3m\n",
      "Invoking: `DASA_search` with `{'query': 'mission of DASA'}`\n",
      "\n",
      "\n",
      "\u001b[0m\u001b[36;1m\u001b[1;3mDASA\n",
      "\n",
      "\n",
      "\n",
      "\n",
      "\n",
      "\n",
      "\n",
      "\n",
      "\n",
      "\n",
      "\n",
      "\n",
      "\n",
      "\n",
      "\n",
      "\n",
      "\n",
      "\n",
      "\n",
      "\n",
      "\n",
      "\n",
      "\n",
      "\n",
      "\n",
      "\n",
      "\n",
      "\n",
      "\n",
      "\n",
      "\n",
      "\n",
      "\n",
      "\n",
      "\n",
      "\n",
      "\n",
      "\n",
      "\n",
      "\n",
      "\n",
      "\n",
      "\n",
      "\n",
      "\n",
      "\n",
      "\n",
      "\n",
      "\n",
      "\n",
      "\n",
      "\n",
      "\n",
      "\n",
      "\n",
      "\n",
      "\n",
      "\n",
      "\n",
      "\n",
      "\n",
      "\n",
      "\n",
      "\n",
      "\n",
      "\n",
      "\n",
      "\n",
      "\n",
      "\n",
      "\n",
      "\n",
      "\n",
      "\n",
      "\n",
      "\n",
      "\n",
      "\n",
      "\n",
      "\n",
      "\n",
      "\n",
      "\n",
      "\n",
      "\n",
      "AboutThe Enterprise Transformation JourneyWhy DASADASA DevOps PrinciplesProductsGuidance ProductsDASA DevAIOps Value BoxComing SoonDASA Platform Engineering Value BoxDASA Product Management Value BoxDASA Portfolio Management Value BoxDASA Experience Management Value BoxHPDO Getting Started Value BoxDASA Competency FrameworkDigital Readiness AssessmentTalent ProductsCertification ProgramsDASA DevAlOpsDASA Platform EngineeringDASA Experience ManagementDASA DevOps Leader™DASA DevOps Coach™DASA Product ManagementComing soonDASA DevOps Product Owner™DASA Portfolio ManagementDASA DevOps Fundamentals™DASA DevOps Enable and Scale™DASA DevOps Specify and Verify™Role Based JourneysPartnersTransformation PartnersTraining ProvidersMembershipEnterprisesLearnersFor IndividualsFor TeamsTraining CalendarDevOps Team ScorecardWhich Course Is Right for YouFrequently Asked QuestionsCommunityAmbassadorsReview PanelExpert ForumsDASA AwardsDASA HubResourcesArticlesEventsRecordingsPublicationsCourse CalendarGlossaryDevOps Team Scorecard\n",
      "\n",
      "\n",
      "\n",
      "\n",
      "\n",
      "\n",
      "\n",
      "\n",
      "\n",
      "\n",
      "Become a High-Performance Digital Organization\n",
      "\n",
      "Facilitate your journey towards flow, business agility, and value maximization.\n",
      "\n",
      "Learn More\n",
      "\n",
      "\n",
      "\n",
      "\n",
      "\n",
      "\n",
      "\n",
      "DASA is trusted by leading organizations \n",
      "\n",
      "\n",
      "\n",
      "\n",
      "\n",
      "\n",
      "\n",
      "\n",
      "\n",
      "\n",
      "\n",
      "\n",
      "\n",
      "\n",
      "\n",
      "\n",
      "\n",
      "\n",
      "\n",
      "\n",
      "\n",
      "\n",
      "The Enterprise Transformation Journey\n",
      "Transform into a Digital Winner\n",
      "Each transformation journey is unique, but most follow a similar path. DASA offers the portfolio to navigate this journey, ensuring a personalized yet organized approach tailored to your enterprise’s specific requirements.\n",
      "\n",
      "\n",
      "Learn More\n",
      "\n",
      "\n",
      "\n",
      "\n",
      "\n",
      "\n",
      "Every organization can benefit from the DevOps concepts, the DevOps culture, and the DevOps way of working.\n",
      "— Pieter de Beijer, Capgemini\n",
      "\n",
      "\n",
      "\n",
      "\n",
      "\n",
      "\n",
      "\n",
      "\n",
      "\n",
      "\n",
      "\n",
      "Why DASA\n",
      "Enhance Flow, Agility, and Value\n",
      "Prioritize customer-focused innovation, and foster a culture of agility and teamwork.\n",
      "\n",
      "\n",
      "Learn More\n",
      "\n",
      "\n",
      "\n",
      "\n",
      "\n",
      "\n",
      "Collaborating with DASA gives us the opportunity to be part of something bigger.\n",
      "— Gabriel Casarini, Netmind\n",
      "\n",
      "\n",
      "\n",
      "\n",
      "\n",
      "\n",
      "\n",
      "\n",
      "\n",
      "\n",
      "\n",
      "\n",
      "\n",
      "\n",
      "\n",
      "\n",
      "\n",
      "\n",
      "\n",
      "\n",
      "\n",
      "DASA Principles\n",
      "Accelerate Your Journey\n",
      "DASA emphasizes six key principles crucial for effective adoption and transition to a DevOps-centric approach, underscoring the importance of experiences, ideas, and cultural shifts in becoming a high-performance digital organization.\n",
      "\n",
      "\n",
      "Learn More\n",
      "\n",
      "\n",
      "\n",
      "\n",
      "\n",
      "\n",
      "Technology is evolving more rapidly than ever, and we need to find ways to accelerate the ways we learn to deal with it.\n",
      "— Yoram Meijer, Cegeka\n",
      "\n",
      "\n",
      "\n",
      "\n",
      "\n",
      "\n",
      "\n",
      "\n",
      "Portfolio\n",
      "The Portfolio to Drive Your Transformation\n",
      "An extensive body of knowledge and range of talent and guidance products to boost enterprise transformation success.\n",
      "\n",
      "\n",
      "\n",
      "\n",
      "\n",
      "Talent Products\n",
      "DASA talent products focus on enhancing individual and team capabilities in organizations, preparing them for high-performance environments that boost enterprise agility, customer centricity, and innovation.\n",
      "\n",
      "\n",
      "Learn More\n",
      "\n",
      "\n",
      "\n",
      "\n",
      "Guidance Products\n",
      "DASA guidance products are tailored to provide comprehensive insight, assistance, and provide direction to organizations in navigating the complexities of enterprise-wide digital transformations.\n",
      "\n",
      "\n",
      "Learn More\n",
      "\n",
      "\n",
      "\n",
      "\n",
      "Community\n",
      "DASA communities offer a collaborative space for leaders and professionals to share ideas, learn together, and rapidly adopt best practices in their field, leveraging the collective knowledge of all members.\n",
      "\n",
      "\n",
      "Learn More\n",
      "\n",
      "\n",
      "\n",
      "\n",
      "\n",
      "\n",
      "\n",
      "Body of Knowledge\n",
      "Featured Insights and Perspectives\n",
      "\n",
      "\n",
      "\n",
      "Case Studies\n",
      "Why DevOps is Outgrowing Traditional IT Service Management\n",
      "Over the past decades, IT Service Management (ITSM) frameworks like ITIL have provided structure, reliability, and efficiency to countless organizations, driving operational excellence in managing IT services. However, with the…Read More\n",
      "\n",
      "Transformation Stories\n",
      "Wiring the Enterprise for Flow and Value Maximization\n",
      "This article is part of a series on transforming into a high-performance digital organization. To explore the six key themes and start your transformation journey, click here → Achieving optimal flow and…Read More\n",
      "\n",
      "\n",
      "\n",
      "\n",
      "\n",
      "Join DASA\n",
      "\n",
      "DASA has developed a flexible approach to membership to suit the size and requirements of each member organization.\n",
      "\n",
      "\n",
      "See How You Can Join\n",
      "\n",
      "\n",
      "\n",
      "\n",
      "\n",
      "\n",
      "\n",
      "\n",
      "Careers\n",
      "Contact\n",
      "Offices\n",
      "About\n",
      "Privacy Policy\n",
      "Terms of Use\n",
      "Sitemap\n",
      "DASA Hub\n",
      "\n",
      "© 2016－2024 · DASA BV. All rights reserved.\n",
      "Twitter\n",
      "Instagram\n",
      "LinkedIn\n",
      "Facebook\u001b[0m\u001b[32;1m\u001b[1;3mThe mission of DASA (DevOps Agile Skills Association) is to facilitate the journey towards flow, business agility, and value maximization for organizations. DASA aims to help organizations prioritize customer-focused innovation, foster a culture of agility and teamwork, and enhance flow, agility, and value. DASA emphasizes six key principles crucial for effective adoption and transition to a DevOps-centric approach, focusing on experiences, ideas, and cultural shifts to become a high-performance digital organization. DASA offers a portfolio of talent and guidance products to drive enterprise transformation success and provides a collaborative community for leaders and professionals to share ideas and adopt best practices.\u001b[0m\n",
      "\n",
      "\u001b[1m> Finished chain.\u001b[0m\n"
     ]
    },
    {
     "data": {
      "text/plain": [
       "{'input': 'What is the mission of DASA',\n",
       " 'output': 'The mission of DASA (DevOps Agile Skills Association) is to facilitate the journey towards flow, business agility, and value maximization for organizations. DASA aims to help organizations prioritize customer-focused innovation, foster a culture of agility and teamwork, and enhance flow, agility, and value. DASA emphasizes six key principles crucial for effective adoption and transition to a DevOps-centric approach, focusing on experiences, ideas, and cultural shifts to become a high-performance digital organization. DASA offers a portfolio of talent and guidance products to drive enterprise transformation success and provides a collaborative community for leaders and professionals to share ideas and adopt best practices.'}"
      ]
     },
     "execution_count": 20,
     "metadata": {},
     "output_type": "execute_result"
    }
   ],
   "source": [
    "agent_executor.invoke({\"input\":\"What is the mission of DASA\"})"
   ]
  },
  {
   "cell_type": "code",
   "execution_count": 21,
   "metadata": {},
   "outputs": [
    {
     "name": "stdout",
     "output_type": "stream",
     "text": [
      "\n",
      "\n",
      "\u001b[1m> Entering new AgentExecutor chain...\u001b[0m\n",
      "\u001b[32;1m\u001b[1;3m\n",
      "Invoking: `tavily_search_results_json` with `{'query': 'weather in Kuala Lumpur'}`\n",
      "\n",
      "\n",
      "\u001b[0m\u001b[33;1m\u001b[1;3m[{'url': 'https://www.weatherapi.com/', 'content': \"{'location': {'name': 'Kuala Lumpur', 'region': 'Kuala Lumpur', 'country': 'Malaysia', 'lat': 3.1667, 'lon': 101.7, 'tz_id': 'Asia/Kuala_Lumpur', 'localtime_epoch': 1728399493, 'localtime': '2024-10-08 22:58'}, 'current': {'last_updated_epoch': 1728398700, 'last_updated': '2024-10-08 22:45', 'temp_c': 27.3, 'temp_f': 81.1, 'is_day': 0, 'condition': {'text': 'Partly cloudy', 'icon': '//cdn.weatherapi.com/weather/64x64/night/116.png', 'code': 1003}, 'wind_mph': 2.2, 'wind_kph': 3.6, 'wind_degree': 94, 'wind_dir': 'E', 'pressure_mb': 1011.0, 'pressure_in': 29.85, 'precip_mm': 0.0, 'precip_in': 0.0, 'humidity': 84, 'cloud': 25, 'feelslike_c': 30.8, 'feelslike_f': 87.5, 'windchill_c': 25.9, 'windchill_f': 78.6, 'heatindex_c': 28.3, 'heatindex_f': 83.0, 'dewpoint_c': 22.1, 'dewpoint_f': 71.8, 'vis_km': 10.0, 'vis_miles': 6.0, 'uv': 1.0, 'gust_mph': 3.4, 'gust_kph': 5.5}}\"}, {'url': 'https://www.met.gov.my/en/forecast/weather/district/', 'content': 'Location : Kuala Lumpur. Date Weather Forecast; 08/10/2024 Tuesday Scattered thunderstorms Morning: No rain Afternoon: ... 13/10/2024 Sunday No rain Morning: No rain Afternoon: No rain Night: No rain Min: 24°C Max: 33°C 14/10/2024 Monday No rain ...'}, {'url': 'https://www.met.gov.my/en/forecast/weather/town/Tn079/', 'content': 'Weather Forecast for Towns ... Location : Kuala Lumpur. Date Weather Forecast; 05/10/2024 Saturday Thunderstorms Morning: No rain Afternoon: Thunderstorms ... 08/10/2024 Tuesday Thunderstorms Morning: No rain Afternoon: Thunderstorms Night: No rain Min: 25°C Max: 32°C'}, {'url': 'https://weatherspark.com/h/y/113829/2024/Historical-Weather-during-2024-in-Kuala-Lumpur-Malaysia', 'content': 'Kuala Lumpur Temperature History 2024\\nHourly Temperature in 2024 in Kuala Lumpur\\nCompare Kuala Lumpur to another city:\\nCloud Cover in 2024 in Kuala Lumpur\\nObserved Weather in 2024 in Kuala Lumpur\\nHours of Daylight and Twilight in 2024 in Kuala Lumpur\\nSunrise & Sunset with Twilight in 2024 in Kuala Lumpur\\nSolar Elevation and Azimuth in 2024 in Kuala Lumpur\\nMoon Rise, Set & Phases in 2024 in Kuala Lumpur\\nHumidity Comfort Levels in 2024 in Kuala Lumpur\\nWind Speed in 2024 in Kuala Lumpur\\nHourly Wind Speed in 2024 in Kuala Lumpur\\nHourly Wind Direction in 2024 in Kuala Lumpur\\nAtmospheric Pressure in 2024 in Kuala Lumpur\\nData Sources\\n 77°F\\nPrecipitation\\nNo Report\\nWind\\n0.0 mph\\nCloud Cover\\nMostly Clear\\n1,000 ft\\nRaw: WMKK 010030Z 00000KT 9000 FEW010 25/24 Q1013 NOSIG\\n While having the tremendous advantages of temporal and spatial completeness, these reconstructions: (1) are based on computer models that may have model-based errors, (2) are coarsely sampled on a 50 km grid and are therefore unable to reconstruct the local variations of many microclimates, and (3) have particular difficulty with the weather in some coastal areas, especially small islands.\\n We further caution that our travel scores are only as good as the data that underpin them, that weather conditions at any given location and time are unpredictable and variable, and that the definition of the scores reflects a particular set of preferences that may not agree with those of any particular reader.\\n See all nearby weather stations\\nLatest Report — 8:30 AM\\nThu, Feb 1, 2024\\xa0\\xa0\\xa0\\xa039 min ago\\xa0\\xa0\\xa0\\xa0UTC 00:30\\nCall Sign WMKK\\nTemp.\\n'}, {'url': 'https://world-weather.info/forecast/malaysia/kuala_lumpur/august-2024/', 'content': 'Detailed ⚡ Kuala Lumpur Weather Forecast for August 2024 - day/night 🌡️ temperatures, precipitations - World-Weather.info'}]\u001b[0m\u001b[32;1m\u001b[1;3mThe current weather in Kuala Lumpur is partly cloudy with a temperature of 27.3°C (81.1°F). The humidity is at 84% and there is a light wind blowing from the east at 3.6 km/h.\u001b[0m\n",
      "\n",
      "\u001b[1m> Finished chain.\u001b[0m\n"
     ]
    },
    {
     "data": {
      "text/plain": [
       "{'input': 'What is weather in Kuala Lumpur?',\n",
       " 'output': 'The current weather in Kuala Lumpur is partly cloudy with a temperature of 27.3°C (81.1°F). The humidity is at 84% and there is a light wind blowing from the east at 3.6 km/h.'}"
      ]
     },
     "execution_count": 21,
     "metadata": {},
     "output_type": "execute_result"
    }
   ],
   "source": [
    "agent_executor.invoke({\"input\":\"What is weather in Kuala Lumpur?\"})"
   ]
  }
 ],
 "metadata": {
  "kernelspec": {
   "display_name": "base",
   "language": "python",
   "name": "python3"
  },
  "language_info": {
   "codemirror_mode": {
    "name": "ipython",
    "version": 3
   },
   "file_extension": ".py",
   "mimetype": "text/x-python",
   "name": "python",
   "nbconvert_exporter": "python",
   "pygments_lexer": "ipython3",
   "version": "3.9.6"
  }
 },
 "nbformat": 4,
 "nbformat_minor": 2
}
